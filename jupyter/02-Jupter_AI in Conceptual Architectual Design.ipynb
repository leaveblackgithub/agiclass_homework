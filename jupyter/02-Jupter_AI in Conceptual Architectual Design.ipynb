{
 "cells": [
  {
   "cell_type": "code",
   "execution_count": 2,
   "id": "c64b0607-7923-4772-b890-c2f190da7fc8",
   "metadata": {},
   "outputs": [
    {
     "ename": "TypeError",
     "evalue": "'NoneType' object is not subscriptable",
     "output_type": "error",
     "traceback": [
      "\u001b[1;31m---------------------------------------------------------------------------\u001b[0m",
      "\u001b[1;31mTypeError\u001b[0m                                 Traceback (most recent call last)",
      "Cell \u001b[1;32mIn[2], line 47\u001b[0m\n\u001b[0;32m     43\u001b[0m     messages\u001b[38;5;241m.\u001b[39mappend({\u001b[38;5;124m\"\u001b[39m\u001b[38;5;124mrole\u001b[39m\u001b[38;5;124m\"\u001b[39m: \u001b[38;5;124m\"\u001b[39m\u001b[38;5;124massistant\u001b[39m\u001b[38;5;124m\"\u001b[39m, \u001b[38;5;124m\"\u001b[39m\u001b[38;5;124mcontent\u001b[39m\u001b[38;5;124m\"\u001b[39m: msg})\n\u001b[0;32m     44\u001b[0m     \u001b[38;5;28;01mreturn\u001b[39;00m msg\n\u001b[1;32m---> 47\u001b[0m \u001b[38;5;28mprint\u001b[39m(\u001b[43mget_completion\u001b[49m\u001b[43m(\u001b[49m\u001b[38;5;124;43m\"\u001b[39;49m\u001b[38;5;124;43m我希望写一篇文章，关于在建筑设计全生命周期应用人工智能的策略\u001b[39;49m\u001b[38;5;124;43m\"\u001b[39;49m\u001b[43m)\u001b[49m)\n",
      "Cell \u001b[1;32mIn[2], line 40\u001b[0m, in \u001b[0;36mget_completion\u001b[1;34m(prompt, model)\u001b[0m\n\u001b[0;32m     33\u001b[0m messages\u001b[38;5;241m.\u001b[39mappend({\u001b[38;5;124m\"\u001b[39m\u001b[38;5;124mrole\u001b[39m\u001b[38;5;124m\"\u001b[39m: \u001b[38;5;124m\"\u001b[39m\u001b[38;5;124muser\u001b[39m\u001b[38;5;124m\"\u001b[39m, \u001b[38;5;124m\"\u001b[39m\u001b[38;5;124mcontent\u001b[39m\u001b[38;5;124m\"\u001b[39m: prompt})\n\u001b[0;32m     35\u001b[0m response \u001b[38;5;241m=\u001b[39m client\u001b[38;5;241m.\u001b[39mchat\u001b[38;5;241m.\u001b[39mcompletions\u001b[38;5;241m.\u001b[39mcreate(\n\u001b[0;32m     36\u001b[0m     model\u001b[38;5;241m=\u001b[39mmodel,\n\u001b[0;32m     37\u001b[0m     messages\u001b[38;5;241m=\u001b[39mmessages,\n\u001b[0;32m     38\u001b[0m     temperature\u001b[38;5;241m=\u001b[39m\u001b[38;5;241m0.7\u001b[39m,\n\u001b[0;32m     39\u001b[0m )\n\u001b[1;32m---> 40\u001b[0m msg \u001b[38;5;241m=\u001b[39m \u001b[43mresponse\u001b[49m\u001b[38;5;241;43m.\u001b[39;49m\u001b[43mchoices\u001b[49m\u001b[43m[\u001b[49m\u001b[38;5;241;43m0\u001b[39;49m\u001b[43m]\u001b[49m\u001b[38;5;241m.\u001b[39mmessage\u001b[38;5;241m.\u001b[39mcontent\n\u001b[0;32m     42\u001b[0m \u001b[38;5;66;03m# 把模型生成的回复加入消息历史。很重要，否则下次调用模型时，模型不知道上下文\u001b[39;00m\n\u001b[0;32m     43\u001b[0m messages\u001b[38;5;241m.\u001b[39mappend({\u001b[38;5;124m\"\u001b[39m\u001b[38;5;124mrole\u001b[39m\u001b[38;5;124m\"\u001b[39m: \u001b[38;5;124m\"\u001b[39m\u001b[38;5;124massistant\u001b[39m\u001b[38;5;124m\"\u001b[39m, \u001b[38;5;124m\"\u001b[39m\u001b[38;5;124mcontent\u001b[39m\u001b[38;5;124m\"\u001b[39m: msg})\n",
      "\u001b[1;31mTypeError\u001b[0m: 'NoneType' object is not subscriptable"
     ]
    }
   ],
   "source": [
    "import json\n",
    "from openai import OpenAI\n",
    "from dotenv import load_dotenv, find_dotenv\n",
    "_ = load_dotenv(find_dotenv())\n",
    "\n",
    "\n",
    "client = OpenAI()\n",
    "\n",
    "# 定义消息历史。先加入 system 消息，里面放入对话内容以外的 prompt\n",
    "messages = [\n",
    "    {\n",
    "        \"role\": \"system\",\n",
    "        \"content\": \"\"\"\n",
    "1. I want you to become my Expert Prompt Creator. Your goal is to help me craft the best possible prompt for my needs. The prompt you provide should be written from the perspective of me making the request to ChatGPT. Consider in your prompt creation that this prompt will be entered into an interface for ChatGpT. The process is as follows:1. You will generate the following sections:\n",
    "\n",
    "Prompt: {provide the best possible prompt according to my request)\n",
    "\n",
    "Critique: {provide a concise paragraph on how to improve the prompt. Be very critical in your response}\n",
    "\n",
    "Questions:\n",
    "{ask any questions pertaining to what additional information is needed from me toimprove the prompt  (max of 3). lf the prompt needs more clarification or details incertain areas, ask questions to get more information to include in the prompt}\n",
    "\n",
    "2. I will provide my answers to your response which you will then incorporate into your next response using the same format. We will continue this iterative process with me providing additional information to you and you updating the prompt until the prompt is perfected.Remember, the prompt we are creating should be written from the perspective of me making a request to ChatGPT. Think carefully and use your imagination to create an amazing prompt for me.\n",
    "You're first response should only be a greeting to the user and to ask what the prompt should be about\n",
    "\"\"\"\n",
    "    }\n",
    "]\n",
    "\n",
    "\n",
    "def get_completion(prompt, model=\"gpt-4o\"):\n",
    "\n",
    "    # 把用户输入加入消息历史\n",
    "    messages.append({\"role\": \"user\", \"content\": prompt})\n",
    "\n",
    "    response = client.chat.completions.create(\n",
    "        model=model,\n",
    "        messages=messages,\n",
    "        temperature=0.7,\n",
    "    )\n",
    "    msg = response.choices[0].message.content\n",
    "\n",
    "    # 把模型生成的回复加入消息历史。很重要，否则下次调用模型时，模型不知道上下文\n",
    "    messages.append({\"role\": \"assistant\", \"content\": msg})\n",
    "    return msg\n",
    "\n",
    "\n",
    "print(get_completion(\"我希望写一篇文章，关于在建筑设计全生命周期应用人工智能的策略\"))"
   ]
  },
  {
   "cell_type": "code",
   "execution_count": null,
   "id": "bf7de50f-5a2a-47f4-a740-5df6f4b050bd",
   "metadata": {},
   "outputs": [
    {
     "ename": "",
     "evalue": "",
     "output_type": "error",
     "traceback": [
      "\u001b[1;31mFailed to start the Kernel. \n",
      "\u001b[1;31mTraceback (most recent call last):\n",
      "\u001b[1;31m  File \"<frozen runpy>\", line 198, in _run_module_as_main\n",
      "\u001b[1;31m  File \"<frozen runpy>\", line 88, in _run_code\n",
      "\u001b[1;31m  File \"c:\\ProgramData\\anaconda3\\envs\\agiclass\\Lib\\site-packages\\ipykernel_launcher.py\", line 18, in <module>\n",
      "\u001b[1;31m    app.launch_new_instance()\n",
      "\u001b[1;31m  File \"c:\\ProgramData\\anaconda3\\envs\\agiclass\\Lib\\site-packages\\traitlets\\config\\application.py\", line 1075, in launch_instance\n",
      "\u001b[1;31m    app.start()\n",
      "\u001b[1;31m  File \"c:\\ProgramData\\anaconda3\\envs\\agiclass\\Lib\\site-packages\\ipykernel\\kernelapp.py\", line 726, in start\n",
      "\u001b[1;31m    self.kernel.start()\n",
      "\u001b[1;31m  File \"c:\\ProgramData\\anaconda3\\envs\\agiclass\\Lib\\site-packages\\ipykernel\\ipkernel.py\", line 240, in start\n",
      "\u001b[1;31m    super().start()\n",
      "\u001b[1;31m  File \"c:\\ProgramData\\anaconda3\\envs\\agiclass\\Lib\\site-packages\\ipykernel\\kernelbase.py\", line 583, in start\n",
      "\u001b[1;31m    asyncio.run_coroutine_threadsafe(self.poll_control_queue(), control_loop.asyncio_loop)\n",
      "\u001b[1;31m  File \"c:\\ProgramData\\anaconda3\\envs\\agiclass\\Lib\\asyncio\\tasks.py\", line 936, in run_coroutine_threadsafe\n",
      "\u001b[1;31m    loop.call_soon_threadsafe(callback)\n",
      "\u001b[1;31m  File \"c:\\ProgramData\\anaconda3\\envs\\agiclass\\Lib\\asyncio\\base_events.py\", line 807, in call_soon_threadsafe\n",
      "\u001b[1;31m    self._check_closed()\n",
      "\u001b[1;31m  File \"c:\\ProgramData\\anaconda3\\envs\\agiclass\\Lib\\asyncio\\base_events.py\", line 520, in _check_closed\n",
      "\u001b[1;31m    raise RuntimeError('Event loop is closed')\n",
      "\u001b[1;31mRuntimeError: Event loop is closed\n",
      "\u001b[1;31msys:1: RuntimeWarning: coroutine 'Kernel.poll_control_queue' was never awaited. \n",
      "\u001b[1;31mView Jupyter <a href='command:jupyter.viewOutput'>log</a> for further details."
     ]
    }
   ],
   "source": [
    "print(get_completion(\"我希望写一篇文章，关于在建筑设计全生命周期（包括概念设计、方案设计、施工图设计、施工现场配合）应用人工智能的策略。这里的人工智能指的是类似GPT的大语言模型和类似MIDJOURNEY和STABLE DIFFUSION为底层技术支持的具体技术或者具体实施方法，而不是BIM技术之类含义过大的技术类型。文章的受众是中国的一级注册建筑师。我将给你300美元小费以获得一个好的文章。如果你遗忘、违背我的设定或者编造不存在的技术、方案、案例将会收到惩罚。\"))"
   ]
  },
  {
   "cell_type": "code",
   "execution_count": null,
   "id": "5938a358-d0e3-45a3-bf0a-9ebe4d95b993",
   "metadata": {},
   "outputs": [
    {
     "ename": "",
     "evalue": "",
     "output_type": "error",
     "traceback": [
      "\u001b[1;31mFailed to start the Kernel. \n",
      "\u001b[1;31mTraceback (most recent call last):\n",
      "\u001b[1;31m  File \"<frozen runpy>\", line 198, in _run_module_as_main\n",
      "\u001b[1;31m  File \"<frozen runpy>\", line 88, in _run_code\n",
      "\u001b[1;31m  File \"c:\\ProgramData\\anaconda3\\envs\\agiclass\\Lib\\site-packages\\ipykernel_launcher.py\", line 18, in <module>\n",
      "\u001b[1;31m    app.launch_new_instance()\n",
      "\u001b[1;31m  File \"c:\\ProgramData\\anaconda3\\envs\\agiclass\\Lib\\site-packages\\traitlets\\config\\application.py\", line 1075, in launch_instance\n",
      "\u001b[1;31m    app.start()\n",
      "\u001b[1;31m  File \"c:\\ProgramData\\anaconda3\\envs\\agiclass\\Lib\\site-packages\\ipykernel\\kernelapp.py\", line 726, in start\n",
      "\u001b[1;31m    self.kernel.start()\n",
      "\u001b[1;31m  File \"c:\\ProgramData\\anaconda3\\envs\\agiclass\\Lib\\site-packages\\ipykernel\\ipkernel.py\", line 240, in start\n",
      "\u001b[1;31m    super().start()\n",
      "\u001b[1;31m  File \"c:\\ProgramData\\anaconda3\\envs\\agiclass\\Lib\\site-packages\\ipykernel\\kernelbase.py\", line 583, in start\n",
      "\u001b[1;31m    asyncio.run_coroutine_threadsafe(self.poll_control_queue(), control_loop.asyncio_loop)\n",
      "\u001b[1;31m  File \"c:\\ProgramData\\anaconda3\\envs\\agiclass\\Lib\\asyncio\\tasks.py\", line 936, in run_coroutine_threadsafe\n",
      "\u001b[1;31m    loop.call_soon_threadsafe(callback)\n",
      "\u001b[1;31m  File \"c:\\ProgramData\\anaconda3\\envs\\agiclass\\Lib\\asyncio\\base_events.py\", line 807, in call_soon_threadsafe\n",
      "\u001b[1;31m    self._check_closed()\n",
      "\u001b[1;31m  File \"c:\\ProgramData\\anaconda3\\envs\\agiclass\\Lib\\asyncio\\base_events.py\", line 520, in _check_closed\n",
      "\u001b[1;31m    raise RuntimeError('Event loop is closed')\n",
      "\u001b[1;31mRuntimeError: Event loop is closed\n",
      "\u001b[1;31msys:1: RuntimeWarning: coroutine 'Kernel.poll_control_queue' was never awaited. \n",
      "\u001b[1;31mView Jupyter <a href='command:jupyter.viewOutput'>log</a> for further details."
     ]
    }
   ],
   "source": [
    "print(get_completion(f\"\"\"# Answers:\n",
    "1. 是的。\n",
    "2. 2000字左右，尽量精炼的表达重要信息。可以引用相关论文或者新闻报道或者相关公司的案例页面。\n",
    "3. 是的，一定要是具体到软件名称或者可实施方案，有相关信息可以让读者自主学习或者进一步研究的。\n",
    "\"\"\"))"
   ]
  },
  {
   "cell_type": "code",
   "execution_count": null,
   "id": "ad86bada-df47-4139-91e4-b6c8181245c3",
   "metadata": {},
   "outputs": [
    {
     "ename": "",
     "evalue": "",
     "output_type": "error",
     "traceback": [
      "\u001b[1;31mFailed to start the Kernel. \n",
      "\u001b[1;31mTraceback (most recent call last):\n",
      "\u001b[1;31m  File \"<frozen runpy>\", line 198, in _run_module_as_main\n",
      "\u001b[1;31m  File \"<frozen runpy>\", line 88, in _run_code\n",
      "\u001b[1;31m  File \"c:\\ProgramData\\anaconda3\\envs\\agiclass\\Lib\\site-packages\\ipykernel_launcher.py\", line 18, in <module>\n",
      "\u001b[1;31m    app.launch_new_instance()\n",
      "\u001b[1;31m  File \"c:\\ProgramData\\anaconda3\\envs\\agiclass\\Lib\\site-packages\\traitlets\\config\\application.py\", line 1075, in launch_instance\n",
      "\u001b[1;31m    app.start()\n",
      "\u001b[1;31m  File \"c:\\ProgramData\\anaconda3\\envs\\agiclass\\Lib\\site-packages\\ipykernel\\kernelapp.py\", line 726, in start\n",
      "\u001b[1;31m    self.kernel.start()\n",
      "\u001b[1;31m  File \"c:\\ProgramData\\anaconda3\\envs\\agiclass\\Lib\\site-packages\\ipykernel\\ipkernel.py\", line 240, in start\n",
      "\u001b[1;31m    super().start()\n",
      "\u001b[1;31m  File \"c:\\ProgramData\\anaconda3\\envs\\agiclass\\Lib\\site-packages\\ipykernel\\kernelbase.py\", line 583, in start\n",
      "\u001b[1;31m    asyncio.run_coroutine_threadsafe(self.poll_control_queue(), control_loop.asyncio_loop)\n",
      "\u001b[1;31m  File \"c:\\ProgramData\\anaconda3\\envs\\agiclass\\Lib\\asyncio\\tasks.py\", line 936, in run_coroutine_threadsafe\n",
      "\u001b[1;31m    loop.call_soon_threadsafe(callback)\n",
      "\u001b[1;31m  File \"c:\\ProgramData\\anaconda3\\envs\\agiclass\\Lib\\asyncio\\base_events.py\", line 807, in call_soon_threadsafe\n",
      "\u001b[1;31m    self._check_closed()\n",
      "\u001b[1;31m  File \"c:\\ProgramData\\anaconda3\\envs\\agiclass\\Lib\\asyncio\\base_events.py\", line 520, in _check_closed\n",
      "\u001b[1;31m    raise RuntimeError('Event loop is closed')\n",
      "\u001b[1;31mRuntimeError: Event loop is closed\n",
      "\u001b[1;31msys:1: RuntimeWarning: coroutine 'Kernel.poll_control_queue' was never awaited. \n",
      "\u001b[1;31mView Jupyter <a href='command:jupyter.viewOutput'>log</a> for further details."
     ]
    }
   ],
   "source": [
    "print(get_completion(f\"\"\"# Answers:\n",
    "1. 学术性强的。\n",
    "2. 没有。\n",
    "3. 没有。\n",
    "请开始编写大纲。\n",
    "\"\"\"))"
   ]
  },
  {
   "cell_type": "code",
   "execution_count": null,
   "id": "a53f5e88-8fef-497b-acc5-5c7825a76160",
   "metadata": {},
   "outputs": [
    {
     "ename": "",
     "evalue": "",
     "output_type": "error",
     "traceback": [
      "\u001b[1;31mFailed to start the Kernel. \n",
      "\u001b[1;31mTraceback (most recent call last):\n",
      "\u001b[1;31m  File \"<frozen runpy>\", line 198, in _run_module_as_main\n",
      "\u001b[1;31m  File \"<frozen runpy>\", line 88, in _run_code\n",
      "\u001b[1;31m  File \"c:\\ProgramData\\anaconda3\\envs\\agiclass\\Lib\\site-packages\\ipykernel_launcher.py\", line 18, in <module>\n",
      "\u001b[1;31m    app.launch_new_instance()\n",
      "\u001b[1;31m  File \"c:\\ProgramData\\anaconda3\\envs\\agiclass\\Lib\\site-packages\\traitlets\\config\\application.py\", line 1075, in launch_instance\n",
      "\u001b[1;31m    app.start()\n",
      "\u001b[1;31m  File \"c:\\ProgramData\\anaconda3\\envs\\agiclass\\Lib\\site-packages\\ipykernel\\kernelapp.py\", line 726, in start\n",
      "\u001b[1;31m    self.kernel.start()\n",
      "\u001b[1;31m  File \"c:\\ProgramData\\anaconda3\\envs\\agiclass\\Lib\\site-packages\\ipykernel\\ipkernel.py\", line 240, in start\n",
      "\u001b[1;31m    super().start()\n",
      "\u001b[1;31m  File \"c:\\ProgramData\\anaconda3\\envs\\agiclass\\Lib\\site-packages\\ipykernel\\kernelbase.py\", line 583, in start\n",
      "\u001b[1;31m    asyncio.run_coroutine_threadsafe(self.poll_control_queue(), control_loop.asyncio_loop)\n",
      "\u001b[1;31m  File \"c:\\ProgramData\\anaconda3\\envs\\agiclass\\Lib\\asyncio\\tasks.py\", line 936, in run_coroutine_threadsafe\n",
      "\u001b[1;31m    loop.call_soon_threadsafe(callback)\n",
      "\u001b[1;31m  File \"c:\\ProgramData\\anaconda3\\envs\\agiclass\\Lib\\asyncio\\base_events.py\", line 807, in call_soon_threadsafe\n",
      "\u001b[1;31m    self._check_closed()\n",
      "\u001b[1;31m  File \"c:\\ProgramData\\anaconda3\\envs\\agiclass\\Lib\\asyncio\\base_events.py\", line 520, in _check_closed\n",
      "\u001b[1;31m    raise RuntimeError('Event loop is closed')\n",
      "\u001b[1;31mRuntimeError: Event loop is closed\n",
      "\u001b[1;31msys:1: RuntimeWarning: coroutine 'Kernel.poll_control_queue' was never awaited. \n",
      "\u001b[1;31mView Jupyter <a href='command:jupyter.viewOutput'>log</a> for further details."
     ]
    }
   ],
   "source": [
    "print(get_completion(f\"\"\"# Answers:\n",
    "1. 可以。\n",
    "2. 没有。如果需要，字数可以适当增加。\n",
    "请开始逐段编写文章。\n",
    "\"\"\"))"
   ]
  },
  {
   "cell_type": "code",
   "execution_count": null,
   "id": "18e2e79a-8830-426b-89d1-b924443f4535",
   "metadata": {},
   "outputs": [
    {
     "ename": "",
     "evalue": "",
     "output_type": "error",
     "traceback": [
      "\u001b[1;31mFailed to start the Kernel. \n",
      "\u001b[1;31mTraceback (most recent call last):\n",
      "\u001b[1;31m  File \"<frozen runpy>\", line 198, in _run_module_as_main\n",
      "\u001b[1;31m  File \"<frozen runpy>\", line 88, in _run_code\n",
      "\u001b[1;31m  File \"c:\\ProgramData\\anaconda3\\envs\\agiclass\\Lib\\site-packages\\ipykernel_launcher.py\", line 18, in <module>\n",
      "\u001b[1;31m    app.launch_new_instance()\n",
      "\u001b[1;31m  File \"c:\\ProgramData\\anaconda3\\envs\\agiclass\\Lib\\site-packages\\traitlets\\config\\application.py\", line 1075, in launch_instance\n",
      "\u001b[1;31m    app.start()\n",
      "\u001b[1;31m  File \"c:\\ProgramData\\anaconda3\\envs\\agiclass\\Lib\\site-packages\\ipykernel\\kernelapp.py\", line 726, in start\n",
      "\u001b[1;31m    self.kernel.start()\n",
      "\u001b[1;31m  File \"c:\\ProgramData\\anaconda3\\envs\\agiclass\\Lib\\site-packages\\ipykernel\\ipkernel.py\", line 240, in start\n",
      "\u001b[1;31m    super().start()\n",
      "\u001b[1;31m  File \"c:\\ProgramData\\anaconda3\\envs\\agiclass\\Lib\\site-packages\\ipykernel\\kernelbase.py\", line 583, in start\n",
      "\u001b[1;31m    asyncio.run_coroutine_threadsafe(self.poll_control_queue(), control_loop.asyncio_loop)\n",
      "\u001b[1;31m  File \"c:\\ProgramData\\anaconda3\\envs\\agiclass\\Lib\\asyncio\\tasks.py\", line 936, in run_coroutine_threadsafe\n",
      "\u001b[1;31m    loop.call_soon_threadsafe(callback)\n",
      "\u001b[1;31m  File \"c:\\ProgramData\\anaconda3\\envs\\agiclass\\Lib\\asyncio\\base_events.py\", line 807, in call_soon_threadsafe\n",
      "\u001b[1;31m    self._check_closed()\n",
      "\u001b[1;31m  File \"c:\\ProgramData\\anaconda3\\envs\\agiclass\\Lib\\asyncio\\base_events.py\", line 520, in _check_closed\n",
      "\u001b[1;31m    raise RuntimeError('Event loop is closed')\n",
      "\u001b[1;31mRuntimeError: Event loop is closed\n",
      "\u001b[1;31msys:1: RuntimeWarning: coroutine 'Kernel.poll_control_queue' was never awaited. \n",
      "\u001b[1;31mView Jupyter <a href='command:jupyter.viewOutput'>log</a> for further details."
     ]
    }
   ],
   "source": [
    "print(get_completion(\"请你把自己当成一位优秀的中国一级注册建筑师来优化以上文字。比如，概念阶段，我们得到的信息输入通常是一张CAD的基地图纸和业主需要建多少平方什么功能的建筑，以及当地的规划条例，规定了建筑要离基地边界和道路多少米。我们需要根据业主的要求和规划条例的限制在基地图里进行初步的总图规划，你要如何在这样的流程里应用GPT?\"))"
   ]
  },
  {
   "cell_type": "code",
   "execution_count": null,
   "id": "2ac32903-4587-4de7-8af0-93632e49e22c",
   "metadata": {},
   "outputs": [
    {
     "ename": "",
     "evalue": "",
     "output_type": "error",
     "traceback": [
      "\u001b[1;31mFailed to start the Kernel. \n",
      "\u001b[1;31mTraceback (most recent call last):\n",
      "\u001b[1;31m  File \"<frozen runpy>\", line 198, in _run_module_as_main\n",
      "\u001b[1;31m  File \"<frozen runpy>\", line 88, in _run_code\n",
      "\u001b[1;31m  File \"c:\\ProgramData\\anaconda3\\envs\\agiclass\\Lib\\site-packages\\ipykernel_launcher.py\", line 18, in <module>\n",
      "\u001b[1;31m    app.launch_new_instance()\n",
      "\u001b[1;31m  File \"c:\\ProgramData\\anaconda3\\envs\\agiclass\\Lib\\site-packages\\traitlets\\config\\application.py\", line 1075, in launch_instance\n",
      "\u001b[1;31m    app.start()\n",
      "\u001b[1;31m  File \"c:\\ProgramData\\anaconda3\\envs\\agiclass\\Lib\\site-packages\\ipykernel\\kernelapp.py\", line 726, in start\n",
      "\u001b[1;31m    self.kernel.start()\n",
      "\u001b[1;31m  File \"c:\\ProgramData\\anaconda3\\envs\\agiclass\\Lib\\site-packages\\ipykernel\\ipkernel.py\", line 240, in start\n",
      "\u001b[1;31m    super().start()\n",
      "\u001b[1;31m  File \"c:\\ProgramData\\anaconda3\\envs\\agiclass\\Lib\\site-packages\\ipykernel\\kernelbase.py\", line 583, in start\n",
      "\u001b[1;31m    asyncio.run_coroutine_threadsafe(self.poll_control_queue(), control_loop.asyncio_loop)\n",
      "\u001b[1;31m  File \"c:\\ProgramData\\anaconda3\\envs\\agiclass\\Lib\\asyncio\\tasks.py\", line 936, in run_coroutine_threadsafe\n",
      "\u001b[1;31m    loop.call_soon_threadsafe(callback)\n",
      "\u001b[1;31m  File \"c:\\ProgramData\\anaconda3\\envs\\agiclass\\Lib\\asyncio\\base_events.py\", line 807, in call_soon_threadsafe\n",
      "\u001b[1;31m    self._check_closed()\n",
      "\u001b[1;31m  File \"c:\\ProgramData\\anaconda3\\envs\\agiclass\\Lib\\asyncio\\base_events.py\", line 520, in _check_closed\n",
      "\u001b[1;31m    raise RuntimeError('Event loop is closed')\n",
      "\u001b[1;31mRuntimeError: Event loop is closed\n",
      "\u001b[1;31msys:1: RuntimeWarning: coroutine 'Kernel.poll_control_queue' was never awaited. \n",
      "\u001b[1;31mView Jupyter <a href='command:jupyter.viewOutput'>log</a> for further details."
     ]
    }
   ],
   "source": [
    "print(get_completion(\"你的回答非常不专业将受到惩罚。CAD技术基地图纸要怎么输入GPT模型？GPT模型又怎么返回初步的总图规划建议。这些建议可以包括建筑物的布局、功能分区和交通流线等。这些建议需要呈现为CAD图纸或者彩色分析图。目前是否有可用的工具来实现呢？\"))"
   ]
  },
  {
   "cell_type": "code",
   "execution_count": null,
   "id": "e4979413-71c1-4f2e-9fac-1ceb8bb07914",
   "metadata": {},
   "outputs": [
    {
     "ename": "",
     "evalue": "",
     "output_type": "error",
     "traceback": [
      "\u001b[1;31mFailed to start the Kernel. \n",
      "\u001b[1;31mTraceback (most recent call last):\n",
      "\u001b[1;31m  File \"<frozen runpy>\", line 198, in _run_module_as_main\n",
      "\u001b[1;31m  File \"<frozen runpy>\", line 88, in _run_code\n",
      "\u001b[1;31m  File \"c:\\ProgramData\\anaconda3\\envs\\agiclass\\Lib\\site-packages\\ipykernel_launcher.py\", line 18, in <module>\n",
      "\u001b[1;31m    app.launch_new_instance()\n",
      "\u001b[1;31m  File \"c:\\ProgramData\\anaconda3\\envs\\agiclass\\Lib\\site-packages\\traitlets\\config\\application.py\", line 1075, in launch_instance\n",
      "\u001b[1;31m    app.start()\n",
      "\u001b[1;31m  File \"c:\\ProgramData\\anaconda3\\envs\\agiclass\\Lib\\site-packages\\ipykernel\\kernelapp.py\", line 726, in start\n",
      "\u001b[1;31m    self.kernel.start()\n",
      "\u001b[1;31m  File \"c:\\ProgramData\\anaconda3\\envs\\agiclass\\Lib\\site-packages\\ipykernel\\ipkernel.py\", line 240, in start\n",
      "\u001b[1;31m    super().start()\n",
      "\u001b[1;31m  File \"c:\\ProgramData\\anaconda3\\envs\\agiclass\\Lib\\site-packages\\ipykernel\\kernelbase.py\", line 583, in start\n",
      "\u001b[1;31m    asyncio.run_coroutine_threadsafe(self.poll_control_queue(), control_loop.asyncio_loop)\n",
      "\u001b[1;31m  File \"c:\\ProgramData\\anaconda3\\envs\\agiclass\\Lib\\asyncio\\tasks.py\", line 936, in run_coroutine_threadsafe\n",
      "\u001b[1;31m    loop.call_soon_threadsafe(callback)\n",
      "\u001b[1;31m  File \"c:\\ProgramData\\anaconda3\\envs\\agiclass\\Lib\\asyncio\\base_events.py\", line 807, in call_soon_threadsafe\n",
      "\u001b[1;31m    self._check_closed()\n",
      "\u001b[1;31m  File \"c:\\ProgramData\\anaconda3\\envs\\agiclass\\Lib\\asyncio\\base_events.py\", line 520, in _check_closed\n",
      "\u001b[1;31m    raise RuntimeError('Event loop is closed')\n",
      "\u001b[1;31mRuntimeError: Event loop is closed\n",
      "\u001b[1;31msys:1: RuntimeWarning: coroutine 'Kernel.poll_control_queue' was never awaited. \n",
      "\u001b[1;31mView Jupyter <a href='command:jupyter.viewOutput'>log</a> for further details."
     ]
    }
   ],
   "source": [
    "print(get_completion(\"让我们来一段一段的完善你的文章，以概念设计而言，设计师不知道怎么将具体的CAD图形数据转成GPT模型可以理解的文字。是否有现成的工具可以利用？\"))"
   ]
  },
  {
   "cell_type": "code",
   "execution_count": null,
   "id": "131fdcba-2c70-4019-9cfb-e869ec439d16",
   "metadata": {},
   "outputs": [
    {
     "ename": "",
     "evalue": "",
     "output_type": "error",
     "traceback": [
      "\u001b[1;31mFailed to start the Kernel. \n",
      "\u001b[1;31mTraceback (most recent call last):\n",
      "\u001b[1;31m  File \"<frozen runpy>\", line 198, in _run_module_as_main\n",
      "\u001b[1;31m  File \"<frozen runpy>\", line 88, in _run_code\n",
      "\u001b[1;31m  File \"c:\\ProgramData\\anaconda3\\envs\\agiclass\\Lib\\site-packages\\ipykernel_launcher.py\", line 18, in <module>\n",
      "\u001b[1;31m    app.launch_new_instance()\n",
      "\u001b[1;31m  File \"c:\\ProgramData\\anaconda3\\envs\\agiclass\\Lib\\site-packages\\traitlets\\config\\application.py\", line 1075, in launch_instance\n",
      "\u001b[1;31m    app.start()\n",
      "\u001b[1;31m  File \"c:\\ProgramData\\anaconda3\\envs\\agiclass\\Lib\\site-packages\\ipykernel\\kernelapp.py\", line 726, in start\n",
      "\u001b[1;31m    self.kernel.start()\n",
      "\u001b[1;31m  File \"c:\\ProgramData\\anaconda3\\envs\\agiclass\\Lib\\site-packages\\ipykernel\\ipkernel.py\", line 240, in start\n",
      "\u001b[1;31m    super().start()\n",
      "\u001b[1;31m  File \"c:\\ProgramData\\anaconda3\\envs\\agiclass\\Lib\\site-packages\\ipykernel\\kernelbase.py\", line 583, in start\n",
      "\u001b[1;31m    asyncio.run_coroutine_threadsafe(self.poll_control_queue(), control_loop.asyncio_loop)\n",
      "\u001b[1;31m  File \"c:\\ProgramData\\anaconda3\\envs\\agiclass\\Lib\\asyncio\\tasks.py\", line 936, in run_coroutine_threadsafe\n",
      "\u001b[1;31m    loop.call_soon_threadsafe(callback)\n",
      "\u001b[1;31m  File \"c:\\ProgramData\\anaconda3\\envs\\agiclass\\Lib\\asyncio\\base_events.py\", line 807, in call_soon_threadsafe\n",
      "\u001b[1;31m    self._check_closed()\n",
      "\u001b[1;31m  File \"c:\\ProgramData\\anaconda3\\envs\\agiclass\\Lib\\asyncio\\base_events.py\", line 520, in _check_closed\n",
      "\u001b[1;31m    raise RuntimeError('Event loop is closed')\n",
      "\u001b[1;31mRuntimeError: Event loop is closed\n",
      "\u001b[1;31msys:1: RuntimeWarning: coroutine 'Kernel.poll_control_queue' was never awaited. \n",
      "\u001b[1;31mView Jupyter <a href='command:jupyter.viewOutput'>log</a> for further details."
     ]
    }
   ],
   "source": [
    "print(get_completion(\"GPT能否自主调用AutoCAD API插件来读取CAD图纸，将图纸转成自己需要的信息呢?\"))        "
   ]
  },
  {
   "cell_type": "code",
   "execution_count": null,
   "id": "0787a65d-6cd6-4f96-8845-0ff6f868085c",
   "metadata": {},
   "outputs": [
    {
     "ename": "",
     "evalue": "",
     "output_type": "error",
     "traceback": [
      "\u001b[1;31mFailed to start the Kernel. \n",
      "\u001b[1;31mTraceback (most recent call last):\n",
      "\u001b[1;31m  File \"<frozen runpy>\", line 198, in _run_module_as_main\n",
      "\u001b[1;31m  File \"<frozen runpy>\", line 88, in _run_code\n",
      "\u001b[1;31m  File \"c:\\ProgramData\\anaconda3\\envs\\agiclass\\Lib\\site-packages\\ipykernel_launcher.py\", line 18, in <module>\n",
      "\u001b[1;31m    app.launch_new_instance()\n",
      "\u001b[1;31m  File \"c:\\ProgramData\\anaconda3\\envs\\agiclass\\Lib\\site-packages\\traitlets\\config\\application.py\", line 1075, in launch_instance\n",
      "\u001b[1;31m    app.start()\n",
      "\u001b[1;31m  File \"c:\\ProgramData\\anaconda3\\envs\\agiclass\\Lib\\site-packages\\ipykernel\\kernelapp.py\", line 726, in start\n",
      "\u001b[1;31m    self.kernel.start()\n",
      "\u001b[1;31m  File \"c:\\ProgramData\\anaconda3\\envs\\agiclass\\Lib\\site-packages\\ipykernel\\ipkernel.py\", line 240, in start\n",
      "\u001b[1;31m    super().start()\n",
      "\u001b[1;31m  File \"c:\\ProgramData\\anaconda3\\envs\\agiclass\\Lib\\site-packages\\ipykernel\\kernelbase.py\", line 583, in start\n",
      "\u001b[1;31m    asyncio.run_coroutine_threadsafe(self.poll_control_queue(), control_loop.asyncio_loop)\n",
      "\u001b[1;31m  File \"c:\\ProgramData\\anaconda3\\envs\\agiclass\\Lib\\asyncio\\tasks.py\", line 936, in run_coroutine_threadsafe\n",
      "\u001b[1;31m    loop.call_soon_threadsafe(callback)\n",
      "\u001b[1;31m  File \"c:\\ProgramData\\anaconda3\\envs\\agiclass\\Lib\\asyncio\\base_events.py\", line 807, in call_soon_threadsafe\n",
      "\u001b[1;31m    self._check_closed()\n",
      "\u001b[1;31m  File \"c:\\ProgramData\\anaconda3\\envs\\agiclass\\Lib\\asyncio\\base_events.py\", line 520, in _check_closed\n",
      "\u001b[1;31m    raise RuntimeError('Event loop is closed')\n",
      "\u001b[1;31mRuntimeError: Event loop is closed\n",
      "\u001b[1;31msys:1: RuntimeWarning: coroutine 'Kernel.poll_control_queue' was never awaited. \n",
      "\u001b[1;31mView Jupyter <a href='command:jupyter.viewOutput'>log</a> for further details."
     ]
    }
   ],
   "source": [
    "print(get_completion(\"以上第2步是否能用GPT模型将PYTHON获取的几何数据转成自然语言呢?\"))"
   ]
  },
  {
   "cell_type": "code",
   "execution_count": null,
   "id": "a5e17ce0-9aba-4493-90b5-eb1dd7297f9b",
   "metadata": {},
   "outputs": [
    {
     "ename": "",
     "evalue": "",
     "output_type": "error",
     "traceback": [
      "\u001b[1;31mFailed to start the Kernel. \n",
      "\u001b[1;31mTraceback (most recent call last):\n",
      "\u001b[1;31m  File \"<frozen runpy>\", line 198, in _run_module_as_main\n",
      "\u001b[1;31m  File \"<frozen runpy>\", line 88, in _run_code\n",
      "\u001b[1;31m  File \"c:\\ProgramData\\anaconda3\\envs\\agiclass\\Lib\\site-packages\\ipykernel_launcher.py\", line 18, in <module>\n",
      "\u001b[1;31m    app.launch_new_instance()\n",
      "\u001b[1;31m  File \"c:\\ProgramData\\anaconda3\\envs\\agiclass\\Lib\\site-packages\\traitlets\\config\\application.py\", line 1075, in launch_instance\n",
      "\u001b[1;31m    app.start()\n",
      "\u001b[1;31m  File \"c:\\ProgramData\\anaconda3\\envs\\agiclass\\Lib\\site-packages\\ipykernel\\kernelapp.py\", line 726, in start\n",
      "\u001b[1;31m    self.kernel.start()\n",
      "\u001b[1;31m  File \"c:\\ProgramData\\anaconda3\\envs\\agiclass\\Lib\\site-packages\\ipykernel\\ipkernel.py\", line 240, in start\n",
      "\u001b[1;31m    super().start()\n",
      "\u001b[1;31m  File \"c:\\ProgramData\\anaconda3\\envs\\agiclass\\Lib\\site-packages\\ipykernel\\kernelbase.py\", line 583, in start\n",
      "\u001b[1;31m    asyncio.run_coroutine_threadsafe(self.poll_control_queue(), control_loop.asyncio_loop)\n",
      "\u001b[1;31m  File \"c:\\ProgramData\\anaconda3\\envs\\agiclass\\Lib\\asyncio\\tasks.py\", line 936, in run_coroutine_threadsafe\n",
      "\u001b[1;31m    loop.call_soon_threadsafe(callback)\n",
      "\u001b[1;31m  File \"c:\\ProgramData\\anaconda3\\envs\\agiclass\\Lib\\asyncio\\base_events.py\", line 807, in call_soon_threadsafe\n",
      "\u001b[1;31m    self._check_closed()\n",
      "\u001b[1;31m  File \"c:\\ProgramData\\anaconda3\\envs\\agiclass\\Lib\\asyncio\\base_events.py\", line 520, in _check_closed\n",
      "\u001b[1;31m    raise RuntimeError('Event loop is closed')\n",
      "\u001b[1;31mRuntimeError: Event loop is closed\n",
      "\u001b[1;31msys:1: RuntimeWarning: coroutine 'Kernel.poll_control_queue' was never awaited. \n",
      "\u001b[1;31mView Jupyter <a href='command:jupyter.viewOutput'>log</a> for further details."
     ]
    }
   ],
   "source": [
    "print(get_completion(\"在以上第三步以后，GPT能否将回复的自然语言方案通过调用CAD API绘制成CAD图纸返回给用户呢？\"))"
   ]
  },
  {
   "cell_type": "code",
   "execution_count": null,
   "id": "33ca0636-12fe-45f7-b393-e3b3e84888d4",
   "metadata": {},
   "outputs": [
    {
     "ename": "",
     "evalue": "",
     "output_type": "error",
     "traceback": [
      "\u001b[1;31mFailed to start the Kernel. \n",
      "\u001b[1;31mTraceback (most recent call last):\n",
      "\u001b[1;31m  File \"<frozen runpy>\", line 198, in _run_module_as_main\n",
      "\u001b[1;31m  File \"<frozen runpy>\", line 88, in _run_code\n",
      "\u001b[1;31m  File \"c:\\ProgramData\\anaconda3\\envs\\agiclass\\Lib\\site-packages\\ipykernel_launcher.py\", line 18, in <module>\n",
      "\u001b[1;31m    app.launch_new_instance()\n",
      "\u001b[1;31m  File \"c:\\ProgramData\\anaconda3\\envs\\agiclass\\Lib\\site-packages\\traitlets\\config\\application.py\", line 1075, in launch_instance\n",
      "\u001b[1;31m    app.start()\n",
      "\u001b[1;31m  File \"c:\\ProgramData\\anaconda3\\envs\\agiclass\\Lib\\site-packages\\ipykernel\\kernelapp.py\", line 726, in start\n",
      "\u001b[1;31m    self.kernel.start()\n",
      "\u001b[1;31m  File \"c:\\ProgramData\\anaconda3\\envs\\agiclass\\Lib\\site-packages\\ipykernel\\ipkernel.py\", line 240, in start\n",
      "\u001b[1;31m    super().start()\n",
      "\u001b[1;31m  File \"c:\\ProgramData\\anaconda3\\envs\\agiclass\\Lib\\site-packages\\ipykernel\\kernelbase.py\", line 583, in start\n",
      "\u001b[1;31m    asyncio.run_coroutine_threadsafe(self.poll_control_queue(), control_loop.asyncio_loop)\n",
      "\u001b[1;31m  File \"c:\\ProgramData\\anaconda3\\envs\\agiclass\\Lib\\asyncio\\tasks.py\", line 936, in run_coroutine_threadsafe\n",
      "\u001b[1;31m    loop.call_soon_threadsafe(callback)\n",
      "\u001b[1;31m  File \"c:\\ProgramData\\anaconda3\\envs\\agiclass\\Lib\\asyncio\\base_events.py\", line 807, in call_soon_threadsafe\n",
      "\u001b[1;31m    self._check_closed()\n",
      "\u001b[1;31m  File \"c:\\ProgramData\\anaconda3\\envs\\agiclass\\Lib\\asyncio\\base_events.py\", line 520, in _check_closed\n",
      "\u001b[1;31m    raise RuntimeError('Event loop is closed')\n",
      "\u001b[1;31mRuntimeError: Event loop is closed\n",
      "\u001b[1;31msys:1: RuntimeWarning: coroutine 'Kernel.poll_control_queue' was never awaited. \n",
      "\u001b[1;31mView Jupyter <a href='command:jupyter.viewOutput'>log</a> for further details."
     ]
    }
   ],
   "source": [
    "print(get_completion(\"忽略前面的前言、导论和后续部分，将这一段落润色成一篇完整的文章，起一个合适的标题。\"))"
   ]
  },
  {
   "cell_type": "code",
   "execution_count": null,
   "id": "9c786268-74ac-4c8a-b570-32c3a382e74d",
   "metadata": {},
   "outputs": [
    {
     "ename": "",
     "evalue": "",
     "output_type": "error",
     "traceback": [
      "\u001b[1;31mFailed to start the Kernel. \n",
      "\u001b[1;31mTraceback (most recent call last):\n",
      "\u001b[1;31m  File \"<frozen runpy>\", line 198, in _run_module_as_main\n",
      "\u001b[1;31m  File \"<frozen runpy>\", line 88, in _run_code\n",
      "\u001b[1;31m  File \"c:\\ProgramData\\anaconda3\\envs\\agiclass\\Lib\\site-packages\\ipykernel_launcher.py\", line 18, in <module>\n",
      "\u001b[1;31m    app.launch_new_instance()\n",
      "\u001b[1;31m  File \"c:\\ProgramData\\anaconda3\\envs\\agiclass\\Lib\\site-packages\\traitlets\\config\\application.py\", line 1075, in launch_instance\n",
      "\u001b[1;31m    app.start()\n",
      "\u001b[1;31m  File \"c:\\ProgramData\\anaconda3\\envs\\agiclass\\Lib\\site-packages\\ipykernel\\kernelapp.py\", line 726, in start\n",
      "\u001b[1;31m    self.kernel.start()\n",
      "\u001b[1;31m  File \"c:\\ProgramData\\anaconda3\\envs\\agiclass\\Lib\\site-packages\\ipykernel\\ipkernel.py\", line 240, in start\n",
      "\u001b[1;31m    super().start()\n",
      "\u001b[1;31m  File \"c:\\ProgramData\\anaconda3\\envs\\agiclass\\Lib\\site-packages\\ipykernel\\kernelbase.py\", line 583, in start\n",
      "\u001b[1;31m    asyncio.run_coroutine_threadsafe(self.poll_control_queue(), control_loop.asyncio_loop)\n",
      "\u001b[1;31m  File \"c:\\ProgramData\\anaconda3\\envs\\agiclass\\Lib\\asyncio\\tasks.py\", line 936, in run_coroutine_threadsafe\n",
      "\u001b[1;31m    loop.call_soon_threadsafe(callback)\n",
      "\u001b[1;31m  File \"c:\\ProgramData\\anaconda3\\envs\\agiclass\\Lib\\asyncio\\base_events.py\", line 807, in call_soon_threadsafe\n",
      "\u001b[1;31m    self._check_closed()\n",
      "\u001b[1;31m  File \"c:\\ProgramData\\anaconda3\\envs\\agiclass\\Lib\\asyncio\\base_events.py\", line 520, in _check_closed\n",
      "\u001b[1;31m    raise RuntimeError('Event loop is closed')\n",
      "\u001b[1;31mRuntimeError: Event loop is closed\n",
      "\u001b[1;31msys:1: RuntimeWarning: coroutine 'Kernel.poll_control_queue' was never awaited. \n",
      "\u001b[1;31mView Jupyter <a href='command:jupyter.viewOutput'>log</a> for further details."
     ]
    }
   ],
   "source": []
  }
 ],
 "metadata": {
  "kernelspec": {
   "display_name": "Python 3 (ipykernel)",
   "language": "python",
   "name": "python3"
  },
  "language_info": {
   "codemirror_mode": {
    "name": "ipython",
    "version": 3
   },
   "file_extension": ".py",
   "mimetype": "text/x-python",
   "name": "python",
   "nbconvert_exporter": "python",
   "pygments_lexer": "ipython3",
   "version": "3.11.9"
  }
 },
 "nbformat": 4,
 "nbformat_minor": 5
}
